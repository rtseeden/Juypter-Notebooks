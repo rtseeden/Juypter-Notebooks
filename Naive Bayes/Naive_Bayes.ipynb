{
  "nbformat": 4,
  "nbformat_minor": 0,
  "metadata": {
    "colab": {
      "provenance": []
    },
    "kernelspec": {
      "name": "python3",
      "display_name": "Python 3"
    }
  },
  "cells": [
    {
      "cell_type": "markdown",
      "metadata": {
        "id": "MtxJS6qF0OPz"
      },
      "source": [
        "<h1><b>Naive Bayes Classifier</b></h1>"
      ]
    },
    {
      "cell_type": "code",
      "metadata": {
        "id": "r-0AYYCDuGsT",
        "outputId": "7e72612b-9d97-4218-a348-3795d66e928f",
        "colab": {
          "base_uri": "https://localhost:8080/",
          "height": 501
        }
      },
      "source": [
        "import matplotlib.pyplot as plt\n",
        "import numpy as np\n",
        "from matplotlib.colors import LogNorm\n",
        "\n",
        "Z = np.random.rand(6, 10)\n",
        "print(Z)\n",
        "fig, (ax0, ax1) = plt.subplots(2, 1)\n",
        "\n",
        "c = ax0.pcolor(Z)\n",
        "ax0.set_title('default: no edges')\n",
        "\n",
        "c = ax1.pcolor(Z, edgecolors='k', linewidths=4)\n",
        "ax1.set_title('thick edges')\n",
        "\n",
        "fig.tight_layout()\n",
        "plt.show()"
      ],
      "execution_count": null,
      "outputs": [
        {
          "output_type": "stream",
          "text": [
            "[[0.58694845 0.43767048 0.22176856 0.3109781  0.46471269 0.98235023\n",
            "  0.9752397  0.36881775 0.64867688 0.54630108]\n",
            " [0.94186051 0.38547788 0.95993035 0.64720965 0.54963427 0.4255767\n",
            "  0.78090085 0.46332989 0.2941236  0.88650398]\n",
            " [0.10538546 0.21715393 0.7961762  0.86051991 0.03246042 0.16877535\n",
            "  0.90155745 0.20066608 0.59767976 0.56949345]\n",
            " [0.66179381 0.17846332 0.45806291 0.52590243 0.32645193 0.69246088\n",
            "  0.6922307  0.9222042  0.86370079 0.56051674]\n",
            " [0.66881564 0.4920345  0.51182692 0.37504255 0.20558758 0.10607379\n",
            "  0.31700947 0.29958356 0.8912223  0.72082964]\n",
            " [0.70831387 0.05476354 0.47718666 0.96129246 0.61807997 0.69915047\n",
            "  0.0945872  0.81452804 0.47779888 0.60951168]]\n"
          ],
          "name": "stdout"
        },
        {
          "output_type": "display_data",
          "data": {
            "image/png": "[encoded data removed]",
            "text/plain": [
              "<Figure size 432x288 with 2 Axes>"
            ]
          },
          "metadata": {
            "tags": [],
            "needs_background": "light"
          }
        }
      ]
    },
    {
      "cell_type": "code",
      "metadata": {
        "colab": {
          "base_uri": "https://localhost:8080/"
        },
        "id": "56J-tEh3JU7t",
        "outputId": "3e84d171-02a5-4bc2-926e-5627e57ddb36"
      },
      "source": [
        "#Naive Bayes Classifier\n",
        "import pandas as pd\n",
        "import numpy as np\n",
        "from sklearn.model_selection import train_test_split\n",
        "from sklearn.naive_bayes import GaussianNB\n",
        "size=100\n",
        "def log_bayes(x,mean,var, prior):\n",
        "    prob_class_given_x = []\n",
        "    for i in range(3):\n",
        "      prob_x_given_class = np.sum(np.log(1/(2 * np.pi * var[i,:]))) - np.sum(np.square((x - mean[i, :])) / ( var[i,:]) , 1)\n",
        "      prob_class_given_x.append(prob_x_given_class+np.log(prior[i]))\n",
        "    return np.array(prob_class_given_x).T\n",
        "def prediction(arr):\n",
        "  predicted=np.zeros(len(arr))\n",
        "  for i in range(len(arr)):\n",
        "    predicted[i]=np.argmax(arr[i])+1\n",
        "  return predicted\n",
        "\n",
        "mean1 = [1, 1]\n",
        "cov1 = [[1, -.25], [-.25, 1]]\n",
        "x1 = np.random.multivariate_normal(mean1, cov1, size).T\n",
        "x1=x1.T\n",
        "mean2 = [-2, 0]\n",
        "cov2 = [[2, -.5], [-.5, 2]]\n",
        "x2 = np.random.multivariate_normal(mean2, cov2, size).T\n",
        "x2=x2.T\n",
        "mean3 = [3, 3]\n",
        "cov3 = [[-2, 5], [5,-2]]\n",
        "x3 = np.random.multivariate_normal(mean3, cov3, size).T\n",
        "x3=x3.T\n",
        "x=np.vstack((x1,x2,x3))\n",
        "y=np.ones(len(x))\n",
        "y[size:2*size]=2\n",
        "y[2*size:3*size]=3\n",
        "var=np.vstack((np.var(x1,axis=0),np.var(x2,axis=0),np.var(x3,axis=0)))\n",
        "means=np.vstack((mean1,mean2,mean3))\n",
        "bayes=log_bayes(x,means,var,[1/3,1/3,1/3])\n",
        "predicted=prediction(bayes)\n",
        "print(\"Naive Bayes from Scratch\")\n",
        "print(predicted)\n",
        "#compare with GaussianNB\n",
        "clf = GaussianNB()\n",
        "clf.fit(x, y)\n",
        "print(\"Naive Bayes from sklearn\")\n",
        "sklBayes=clf.predict(x)\n",
        "print(sklBayes)\n",
        "\n",
        "print(\"The Naive Bayes classifier from scratch differes from the built in \\n implementation for {} elements\".format(np.count_nonzero(predicted-sklBayes)))\n",
        "print(\"The Naive Bayes classifier from scratch is incorrect for {}% of \\n the dataset\".format((np.count_nonzero(y-predicted))/(5*size)*100))\n",
        "print(\"The built-in Naive Bayes classifier is incorrect for {}% of the\\n dataset\".format((np.count_nonzero(sklBayes-predicted))/(5*size)*100))\n"
      ],
      "execution_count": null,
      "outputs": [
        {
          "output_type": "stream",
          "text": [
            "Naive Bayes from Scratch\n",
            "[1. 1. 1. 2. 1. 2. 1. 1. 1. 1. 1. 1. 1. 1. 1. 1. 1. 1. 1. 1. 1. 1. 1. 1.\n",
            " 1. 1. 1. 1. 3. 1. 1. 1. 1. 3. 1. 1. 1. 1. 1. 1. 1. 1. 1. 1. 1. 1. 1. 1.\n",
            " 2. 1. 1. 1. 2. 1. 1. 1. 1. 2. 1. 1. 1. 1. 1. 1. 1. 1. 3. 1. 1. 1. 1. 1.\n",
            " 1. 1. 1. 1. 1. 1. 2. 1. 1. 1. 1. 1. 1. 1. 1. 3. 1. 1. 1. 1. 1. 1. 1. 1.\n",
            " 1. 1. 1. 1. 2. 1. 2. 2. 2. 2. 1. 2. 1. 2. 2. 2. 2. 2. 2. 2. 1. 2. 2. 2.\n",
            " 2. 2. 2. 2. 2. 2. 2. 2. 2. 2. 2. 2. 2. 2. 1. 2. 2. 2. 1. 2. 2. 2. 2. 2.\n",
            " 2. 2. 2. 2. 2. 2. 2. 2. 1. 2. 2. 2. 2. 2. 2. 2. 2. 1. 2. 2. 2. 2. 2. 2.\n",
            " 2. 2. 2. 2. 2. 2. 2. 2. 2. 2. 2. 2. 1. 2. 2. 2. 2. 2. 1. 2. 2. 2. 2. 2.\n",
            " 2. 2. 2. 2. 2. 2. 2. 2. 3. 3. 1. 3. 1. 3. 1. 3. 3. 3. 3. 3. 3. 1. 3. 3.\n",
            " 3. 1. 3. 3. 3. 3. 3. 3. 1. 3. 3. 1. 3. 3. 3. 3. 3. 1. 3. 3. 1. 3. 3. 3.\n",
            " 3. 3. 3. 3. 3. 3. 3. 3. 1. 3. 3. 1. 3. 3. 3. 3. 3. 3. 3. 3. 3. 3. 3. 3.\n",
            " 3. 3. 3. 3. 3. 3. 3. 3. 3. 3. 1. 3. 3. 3. 3. 3. 3. 1. 3. 3. 3. 3. 3. 1.\n",
            " 3. 3. 3. 3. 3. 1. 1. 3. 3. 3. 3. 3.]\n",
            "Naive Bayes from sklearn\n",
            "[1. 1. 1. 2. 1. 2. 1. 1. 1. 1. 1. 1. 1. 1. 1. 1. 1. 1. 1. 1. 1. 1. 1. 1.\n",
            " 1. 1. 1. 1. 3. 1. 1. 1. 1. 3. 1. 1. 1. 1. 1. 1. 1. 1. 1. 1. 1. 1. 1. 1.\n",
            " 2. 1. 1. 1. 1. 1. 1. 1. 3. 2. 1. 1. 1. 1. 1. 1. 3. 1. 1. 1. 1. 1. 1. 1.\n",
            " 1. 1. 1. 1. 1. 1. 2. 1. 1. 1. 1. 1. 1. 1. 1. 3. 1. 1. 1. 1. 1. 1. 1. 1.\n",
            " 1. 1. 1. 1. 2. 1. 2. 2. 2. 2. 1. 2. 1. 2. 2. 2. 2. 2. 2. 2. 1. 2. 2. 2.\n",
            " 2. 2. 2. 2. 2. 2. 1. 2. 2. 2. 2. 2. 2. 2. 1. 2. 2. 2. 1. 2. 2. 2. 2. 2.\n",
            " 2. 2. 2. 2. 2. 2. 2. 2. 1. 2. 2. 2. 2. 2. 2. 2. 2. 1. 2. 2. 2. 2. 2. 2.\n",
            " 2. 2. 2. 2. 2. 2. 2. 2. 2. 2. 2. 2. 1. 2. 2. 2. 2. 2. 1. 2. 2. 2. 2. 2.\n",
            " 2. 2. 2. 2. 2. 2. 2. 2. 3. 3. 1. 3. 1. 3. 1. 3. 3. 3. 3. 3. 3. 1. 3. 3.\n",
            " 3. 1. 3. 3. 3. 3. 3. 3. 1. 3. 3. 1. 3. 3. 3. 3. 3. 1. 3. 3. 1. 3. 3. 3.\n",
            " 3. 3. 3. 3. 3. 3. 3. 3. 1. 3. 3. 3. 3. 3. 3. 3. 3. 3. 3. 3. 3. 3. 3. 3.\n",
            " 3. 3. 3. 3. 3. 3. 3. 3. 3. 3. 1. 3. 3. 3. 3. 3. 3. 1. 3. 3. 3. 3. 3. 1.\n",
            " 3. 3. 3. 3. 3. 1. 3. 3. 3. 3. 3. 3.]\n",
            "The Naive Bayes classifier from scratch differes from the built in \n",
            " implementation for 7 elements\n",
            "The Naive Bayes classifier from scratch is incorrect for 7.199999999999999% of \n",
            " the dataset\n",
            "The built-in Naive Bayes classifier is incorrect for 1.4000000000000001% of the\n",
            " dataset\n"
          ],
          "name": "stdout"
        },
        {
          "output_type": "stream",
          "text": [
            "/usr/local/lib/python3.6/dist-packages/ipykernel_launcher.py:29: RuntimeWarning: covariance is not positive-semidefinite.\n"
          ],
          "name": "stderr"
        }
      ]
    },
    {
      "cell_type": "code",
      "metadata": {
        "id": "InuZSLgtbfG4",
        "colab": {
          "base_uri": "https://localhost:8080/"
        },
        "outputId": "b85aac01-29b6-4b9c-984e-95eca5904cf1"
      },
      "source": [
        "#Naive Bayes Classifier\n",
        "import pandas as pd\n",
        "import numpy as np\n",
        "from sklearn.model_selection import train_test_split\n",
        "from sklearn.naive_bayes import GaussianNB\n",
        "size=100\n",
        "def log_bayes(x,mean,var, prior):\n",
        "    prob_class_given_x = []\n",
        "    for i in range(3):\n",
        "      prob_x_given_class = np.sum(np.log(1/(2 * np.pi * var[i,:]))) - np.sum(np.square((x - mean[i, :])) / ( var[i,:]) , 1)\n",
        "      prob_class_given_x.append(prob_x_given_class+np.log(prior[i]))\n",
        "    return np.array(prob_class_given_x).T\n",
        "def prediction(arr):\n",
        "  predicted=np.zeros(len(arr))\n",
        "  for i in range(len(arr)):\n",
        "    predicted[i]=np.argmax(arr[i])+1\n",
        "  return predicted\n",
        "\n",
        "mean1 = [0, 0]\n",
        "cov1 = [[1, -.25], [-.25, 1]]\n",
        "x1 = np.random.multivariate_normal(mean1, cov1, 2*size).T\n",
        "x1=x1.T\n",
        "mean2 = [-5, -10]\n",
        "cov2 = [[2, -.1], [-.1, 2]]\n",
        "x2 = np.random.multivariate_normal(mean2, cov2, size).T\n",
        "x2=x2.T\n",
        "mean3 = [2, 3]\n",
        "cov3 = [[-2, .7], [.7,-2]]\n",
        "x3 = np.random.multivariate_normal(mean3, cov3, 3*size).T\n",
        "x3=x3.T\n",
        "x=np.vstack((x1,x2,x3))\n",
        "y=np.ones(len(x))\n",
        "y[2*size:3*size]=2\n",
        "y[3*size:6*size]=3\n",
        "var=np.vstack((np.var(x1,axis=0),np.var(x2,axis=0),np.var(x3,axis=0)))\n",
        "means=np.vstack((mean1,mean2,mean3))\n",
        "bayes=log_bayes(x,means,var,[2/5,1/5,3/5])\n",
        "predicted=prediction(bayes)\n",
        "print(\"Naive Bayes from Scratch\")\n",
        "print(predicted)\n",
        "#compare with GaussianNB\n",
        "clf = GaussianNB()\n",
        "clf.fit(x, y)\n",
        "print(\"Naive Bayes from sklearn\")\n",
        "sklBayes=clf.predict(x)\n",
        "print(sklBayes)\n",
        "\n",
        "print(\"The Naive Bayes classifier from scratch differs from the built in \\nimplementation for {} elements\".format(np.count_nonzero(predicted-sklBayes)))\n",
        "print(\"The Naive Bayes classifier from scratch is incorrect for {}% of the \\ndataset\".format((np.count_nonzero(y-predicted))/(5*size)*100))\n",
        "print(\"The built-in Naive Bayes classifier is incorrect for {}% of the \\ndataset\".format((np.count_nonzero(sklBayes-predicted))/(5*size)*100))"
      ],
      "execution_count": null,
      "outputs": [
        {
          "output_type": "stream",
          "text": [
            "Naive Bayes from Scratch\n",
            "[1. 1. 1. 1. 1. 1. 1. 1. 1. 1. 1. 1. 3. 1. 1. 1. 1. 1. 1. 1. 1. 1. 1. 1.\n",
            " 1. 1. 1. 1. 1. 1. 1. 1. 1. 3. 1. 1. 1. 1. 1. 1. 1. 1. 1. 1. 1. 3. 1. 1.\n",
            " 1. 1. 1. 1. 1. 1. 1. 1. 1. 1. 1. 1. 1. 1. 1. 1. 1. 1. 1. 1. 1. 1. 1. 1.\n",
            " 1. 1. 1. 1. 1. 1. 1. 1. 1. 1. 1. 1. 1. 1. 1. 1. 1. 1. 1. 1. 1. 1. 1. 1.\n",
            " 1. 1. 1. 1. 1. 3. 1. 1. 1. 1. 1. 1. 1. 3. 1. 1. 3. 1. 1. 1. 1. 1. 1. 1.\n",
            " 1. 1. 3. 1. 1. 1. 1. 1. 1. 3. 1. 1. 1. 1. 1. 1. 1. 1. 1. 1. 1. 1. 1. 1.\n",
            " 1. 1. 1. 1. 1. 1. 1. 1. 1. 1. 1. 1. 1. 1. 1. 1. 1. 1. 1. 1. 1. 1. 1. 1.\n",
            " 1. 1. 1. 1. 1. 1. 3. 1. 1. 1. 1. 1. 1. 1. 1. 1. 1. 1. 1. 1. 1. 1. 1. 1.\n",
            " 3. 1. 1. 1. 1. 1. 1. 1. 2. 2. 2. 2. 2. 2. 2. 2. 2. 2. 2. 2. 2. 2. 2. 2.\n",
            " 2. 2. 2. 2. 2. 2. 2. 2. 2. 2. 2. 2. 2. 2. 2. 2. 2. 2. 2. 2. 2. 2. 2. 2.\n",
            " 2. 2. 2. 2. 2. 2. 2. 2. 2. 2. 2. 2. 2. 2. 2. 2. 2. 2. 2. 2. 2. 2. 2. 2.\n",
            " 2. 2. 2. 2. 2. 2. 2. 2. 2. 2. 2. 2. 2. 2. 2. 2. 2. 2. 2. 2. 2. 2. 2. 2.\n",
            " 2. 2. 2. 2. 2. 2. 2. 2. 2. 2. 2. 2. 3. 3. 3. 3. 3. 3. 3. 3. 3. 3. 3. 3.\n",
            " 3. 3. 3. 3. 3. 3. 3. 3. 3. 3. 3. 3. 3. 3. 3. 3. 3. 1. 3. 3. 3. 3. 3. 3.\n",
            " 3. 3. 3. 3. 3. 3. 3. 3. 3. 3. 3. 3. 3. 3. 3. 3. 3. 3. 3. 3. 3. 3. 3. 3.\n",
            " 3. 3. 3. 3. 3. 3. 3. 3. 3. 3. 3. 3. 3. 3. 3. 3. 3. 3. 3. 3. 3. 3. 3. 3.\n",
            " 3. 3. 3. 3. 3. 3. 3. 3. 3. 3. 3. 3. 3. 3. 3. 3. 3. 3. 3. 1. 3. 3. 3. 3.\n",
            " 3. 3. 3. 3. 3. 3. 3. 3. 3. 3. 3. 3. 3. 3. 3. 3. 3. 3. 3. 3. 3. 3. 3. 3.\n",
            " 3. 3. 3. 3. 3. 3. 3. 3. 3. 3. 3. 3. 3. 3. 3. 3. 3. 3. 3. 3. 3. 3. 3. 3.\n",
            " 3. 3. 3. 3. 3. 3. 3. 3. 3. 3. 3. 3. 3. 3. 3. 3. 3. 3. 3. 3. 3. 3. 3. 3.\n",
            " 3. 3. 3. 3. 3. 3. 3. 3. 3. 3. 3. 3. 3. 3. 3. 3. 3. 3. 3. 3. 3. 3. 3. 3.\n",
            " 1. 3. 3. 3. 3. 3. 3. 3. 3. 3. 3. 3. 3. 3. 3. 3. 3. 3. 3. 3. 3. 3. 3. 3.\n",
            " 3. 3. 3. 3. 3. 3. 3. 3. 3. 3. 3. 1. 3. 3. 3. 3. 3. 3. 3. 3. 3. 3. 3. 1.\n",
            " 3. 3. 1. 3. 3. 3. 3. 3. 3. 3. 3. 3. 3. 3. 3. 3. 1. 3. 3. 3. 3. 3. 3. 3.\n",
            " 3. 3. 3. 3. 3. 1. 3. 3. 3. 3. 3. 3. 3. 3. 3. 3. 1. 3. 3. 3. 3. 3. 3. 3.]\n",
            "Naive Bayes from sklearn\n",
            "[1. 1. 1. 1. 1. 1. 1. 1. 1. 1. 1. 1. 3. 1. 1. 1. 1. 1. 1. 1. 1. 1. 1. 1.\n",
            " 1. 1. 1. 1. 1. 1. 1. 1. 1. 3. 1. 1. 1. 1. 1. 1. 1. 1. 1. 1. 1. 3. 1. 1.\n",
            " 1. 1. 1. 1. 1. 1. 1. 1. 1. 1. 1. 1. 1. 1. 1. 1. 1. 1. 1. 1. 1. 1. 1. 1.\n",
            " 1. 1. 1. 1. 1. 1. 1. 1. 1. 1. 1. 1. 1. 1. 1. 1. 1. 1. 1. 1. 1. 1. 3. 1.\n",
            " 1. 1. 1. 1. 1. 3. 1. 1. 1. 1. 1. 1. 1. 3. 1. 1. 3. 3. 1. 1. 1. 1. 1. 1.\n",
            " 1. 1. 3. 1. 1. 1. 1. 1. 1. 3. 1. 1. 1. 1. 1. 1. 1. 1. 1. 1. 1. 1. 1. 1.\n",
            " 1. 1. 1. 1. 1. 1. 1. 1. 1. 1. 1. 1. 1. 1. 1. 1. 1. 1. 1. 1. 1. 1. 1. 1.\n",
            " 1. 1. 1. 1. 1. 1. 3. 1. 1. 1. 1. 1. 1. 1. 1. 1. 1. 1. 1. 1. 1. 1. 1. 1.\n",
            " 3. 1. 1. 1. 1. 1. 1. 1. 2. 2. 2. 2. 2. 2. 2. 2. 2. 2. 2. 2. 2. 2. 2. 2.\n",
            " 2. 2. 2. 2. 2. 2. 2. 2. 2. 2. 2. 2. 2. 2. 2. 2. 2. 2. 2. 2. 2. 2. 2. 2.\n",
            " 2. 2. 2. 2. 2. 2. 2. 2. 2. 2. 2. 2. 2. 2. 2. 2. 2. 2. 2. 2. 2. 2. 2. 2.\n",
            " 2. 2. 2. 2. 2. 2. 2. 2. 2. 2. 2. 2. 2. 2. 2. 2. 2. 2. 2. 2. 2. 2. 2. 2.\n",
            " 2. 2. 2. 2. 2. 2. 2. 2. 2. 2. 2. 2. 3. 3. 3. 3. 3. 3. 3. 3. 3. 3. 3. 3.\n",
            " 3. 3. 3. 3. 3. 3. 3. 3. 3. 3. 3. 3. 3. 3. 3. 3. 3. 1. 3. 3. 3. 3. 3. 3.\n",
            " 3. 3. 3. 3. 3. 3. 3. 3. 3. 3. 3. 3. 3. 3. 3. 3. 3. 3. 3. 3. 3. 3. 3. 3.\n",
            " 3. 3. 3. 3. 3. 3. 3. 3. 3. 3. 3. 3. 3. 3. 3. 3. 3. 3. 3. 3. 3. 3. 3. 3.\n",
            " 3. 3. 3. 3. 3. 3. 3. 3. 3. 3. 3. 3. 3. 3. 3. 3. 3. 3. 3. 3. 3. 3. 3. 3.\n",
            " 3. 3. 3. 3. 3. 3. 3. 3. 3. 3. 3. 3. 3. 3. 3. 3. 3. 3. 3. 3. 3. 3. 3. 3.\n",
            " 3. 3. 3. 3. 3. 3. 3. 3. 3. 3. 3. 3. 3. 3. 3. 3. 3. 3. 3. 3. 3. 3. 3. 3.\n",
            " 3. 3. 3. 3. 3. 3. 3. 3. 3. 3. 3. 3. 3. 3. 3. 3. 3. 3. 3. 3. 3. 3. 3. 3.\n",
            " 3. 3. 3. 3. 3. 3. 3. 3. 3. 3. 3. 3. 3. 3. 3. 3. 3. 3. 3. 3. 3. 3. 3. 3.\n",
            " 1. 3. 3. 3. 3. 3. 3. 3. 3. 3. 3. 3. 3. 3. 3. 3. 3. 3. 3. 3. 3. 3. 3. 3.\n",
            " 3. 3. 3. 3. 3. 3. 3. 3. 3. 3. 3. 3. 3. 3. 3. 3. 3. 3. 3. 3. 3. 3. 3. 1.\n",
            " 3. 3. 3. 3. 3. 3. 3. 3. 3. 3. 3. 3. 3. 3. 3. 3. 3. 3. 3. 3. 3. 3. 3. 3.\n",
            " 3. 3. 3. 3. 3. 1. 3. 3. 3. 3. 3. 3. 3. 3. 3. 3. 1. 3. 3. 3. 3. 3. 3. 3.]\n",
            "The Naive Bayes classifier from scratch differs from the built in \n",
            "implementation for 6 elements\n",
            "The Naive Bayes classifier from scratch is incorrect for 3.8% of the \n",
            "dataset\n",
            "The built-in Naive Bayes classifier is incorrect for 1.2% of the \n",
            "dataset\n"
          ],
          "name": "stdout"
        },
        {
          "output_type": "stream",
          "text": [
            "/usr/local/lib/python3.6/dist-packages/ipykernel_launcher.py:29: RuntimeWarning: covariance is not positive-semidefinite.\n"
          ],
          "name": "stderr"
        }
      ]
    },
    {
      "cell_type": "markdown",
      "metadata": {
        "id": "UHWiCTJMz6ed"
      },
      "source": [
        "In both tests the Naive Bayes classifier does not work as well as the built-in implementation"
      ]
    }
  ]
}